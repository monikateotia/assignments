{
 "cells": [
  {
   "cell_type": "markdown",
   "id": "07a7d235-50e5-41d6-bd6b-a0cb7b358021",
   "metadata": {},
   "source": [
    "Q1-Who developed python programming language?\n",
    "\n",
    "ans-Python was developed by Guido Van Rossum and first released on 20 feb 1991."
   ]
  },
  {
   "cell_type": "markdown",
   "id": "c8cad0aa-eede-4e79-a4d4-5ac7ab8b2787",
   "metadata": {},
   "source": [
    "Q2-which type of programming does python support?\n",
    "\n",
    "ans-Object-oriented programming and structured programming are fully supported by python and many of their features support functional programming and aspect-oriented programming"
   ]
  },
  {
   "cell_type": "markdown",
   "id": "504593bd-10ed-4bc4-90fb-31abfdb5acc5",
   "metadata": {},
   "source": [
    "Q3-Is python case sensitive when dealing with Identifiers?\n",
    "\n",
    "ans-yes python case sensitive when dealing with identifiers."
   ]
  },
  {
   "cell_type": "markdown",
   "id": "3c65df2c-9893-47a7-8d4f-daf35e495f66",
   "metadata": {},
   "source": [
    "Q4-what is the correct extension of the python file?\n",
    "\n",
    "ans-The extension of python file is .py"
   ]
  },
  {
   "cell_type": "markdown",
   "id": "8382abf3-2947-46be-bcb8-056da785f8a5",
   "metadata": {
    "jupyter": {
     "source_hidden": true
    },
    "tags": []
   },
   "source": [
    "Q5-Is python code compiled or Interpreted?\n",
    "\n",
    "ans-python is both compiled as well as an interpreted language,which means when we run a python code ,it is first\n",
    "compiled and then interpreted line by line .The compilation part is mostly hidden from the user while running the code"
   ]
  },
  {
   "cell_type": "code",
   "execution_count": 2,
   "id": "73ca9008-2b2d-40b2-9d42-f7c3040c489a",
   "metadata": {
    "tags": []
   },
   "outputs": [
    {
     "name": "stdout",
     "output_type": "stream",
     "text": [
      "correct name\n"
     ]
    }
   ],
   "source": [
    "#Q6-Name a few blocks of code used to define in python language ?\n",
    "\n",
    "#ans-The following are blocks: a module ,a function body and a class defination .\n",
    "#a code block is executed in an execution frame .for ex.\n",
    "name='moni'\n",
    "if name=='moni':\n",
    "    print('correct name')\n",
    "else:\n",
    "    print('incorrect name')\n"
   ]
  },
  {
   "cell_type": "markdown",
   "id": "fb3e5623-7eec-4dd5-8679-1083451816fc",
   "metadata": {},
   "source": [
    "there are two separate code blocks in print ('correct name') ,('incorrect name') \n"
   ]
  },
  {
   "cell_type": "markdown",
   "id": "604b9be7-d29b-48ba-bc09-d4b8e64007bd",
   "metadata": {},
   "source": [
    "Q7-State a character used to give single line comments in python?\n",
    "\n",
    "ans-Hash caractor (#) is used to give single line comments in python ."
   ]
  },
  {
   "cell_type": "markdown",
   "id": "fbb08c8e-1013-4459-9a4f-53871dcbc9be",
   "metadata": {},
   "source": [
    "Q8-Mention functions which can help us to find the version of python that we are currently working on ?\n",
    "\n",
    "ans-In window operating system we can use the command python--version to check the python version ."
   ]
  },
  {
   "cell_type": "markdown",
   "id": "c02605e7-7d81-4e9f-a464-51232bb02c8f",
   "metadata": {},
   "source": [
    "Q9-Python supports the creation of anonynous function at run time ,using a construct called .....\n",
    "\n",
    "ans-python supports the creation of anonynous function at run time ,using a construct called 'Lambda'"
   ]
  },
  {
   "cell_type": "markdown",
   "id": "c5498ff1-e6eb-403b-bc0b-d72553392a05",
   "metadata": {},
   "source": [
    "Q10-What does pip stand for python?\n",
    "\n",
    "ans-pip-performance improved plane \n",
    "pip is a package -management system written in python and it used to install and manage software packages .pip connects to an online repository of public packages called the python package index."
   ]
  },
  {
   "cell_type": "code",
   "execution_count": null,
   "id": "48dda66b-5b17-4401-bf14-28626a79dab0",
   "metadata": {},
   "outputs": [],
   "source": [
    "Q11-Mention a few built in functions in python ?\n",
    "\n",
    "ans-Function    -     Discription\n",
    "   complex()    -    return a complex number\n",
    "   dict()       -   returns a dictionary\n",
    "   float()      -    return a floating point number\n",
    "   print()      -    print to the standard output device\n",
    "   tuple()      -    returns a tuple \n",
    "   list()       -    returns a list     etc.\n",
    "            "
   ]
  },
  {
   "cell_type": "markdown",
   "id": "108a7516-2ba5-4882-932a-fd68a89e61a1",
   "metadata": {},
   "source": [
    "Q12-What is the max. possible length of an identifier in python\n",
    "\n",
    "ans-An identifier can have a max. length of 79 characters in python."
   ]
  },
  {
   "cell_type": "markdown",
   "id": "6b5029a0-9779-48dd-9892-9b4e0d1d837b",
   "metadata": {},
   "source": [
    "Q13-What are the benefits of using python?\n",
    "\n",
    "ans-1. easy to read,learn and write\n",
    "2.Improved productivity.due to the simplicity of python ,developers can focus on solving the problem.they don't need to spend too much time in understanding the sintex or behavior of the programming language .\n",
    "3.python is an interpreted language .in case of any error it stops further execution and reports back the error which has occurred.\n",
    "4.dynamically type \n",
    "5.python comes under the OSI approved open source license .this makes it free to use and distribute.\n",
    "6.The standard library of python is huge,you can find almost all the functions needed for your task .\n",
    "7.In many languages you need to change your code to run the program on diffrent platforms .that is not the same in python you only write once and run it anywhere.\n",
    "\n"
   ]
  },
  {
   "cell_type": "markdown",
   "id": "3082941d-3dfc-446e-95b1-090e0cbfa110",
   "metadata": {},
   "source": [
    "Q14-How is memmory managed in python?\n",
    "ans-Memmory management in python involves a private heap containing all python objects and data structures.the management of this private heap is ensured internally by the python memmory manager."
   ]
  },
  {
   "cell_type": "markdown",
   "id": "183a66c9-7a63-4d07-878c-6a29393aa7cb",
   "metadata": {},
   "source": [
    " Q15-How to install python on windows and set path variables?\n",
    " \n",
    " ans-Install python from this link https://www.python.org/downloads/ after this,install it in your p.c. look for the location where python has been installed on your p.c. using tge following command on your command prompt: cmd python.then go to advanced system settings and add new variable and name it as PYTHON_NAME and paste the copied path.\n",
    " then look for the path variable ,select it's value and select edit and a semicolon towards the end of the value if it's not present and then type %PYTHON_HOME%\n",
    "    "
   ]
  },
  {
   "cell_type": "markdown",
   "id": "f3ed5b95-05d0-4d27-8ada-bfe68c5837b0",
   "metadata": {},
   "source": [
    "Q16-Is indentation required in python ?\n",
    "\n",
    "ans-Indentation refers to the spaces at the beginning of a code line.where in other programming languages the indentation in code is for readability only,the indentation in python is very important.python uses indentation to indicate a block of code. "
   ]
  },
  {
   "cell_type": "markdown",
   "id": "8398a6ba-6989-4a5f-bd1f-2bcec10e8108",
   "metadata": {},
   "source": []
  }
 ],
 "metadata": {
  "kernelspec": {
   "display_name": "Python 3 (ipykernel)",
   "language": "python",
   "name": "python3"
  },
  "language_info": {
   "codemirror_mode": {
    "name": "ipython",
    "version": 3
   },
   "file_extension": ".py",
   "mimetype": "text/x-python",
   "name": "python",
   "nbconvert_exporter": "python",
   "pygments_lexer": "ipython3",
   "version": "3.10.8"
  }
 },
 "nbformat": 4,
 "nbformat_minor": 5
}
